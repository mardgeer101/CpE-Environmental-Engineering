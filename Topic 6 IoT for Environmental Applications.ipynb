{
 "cells": [
  {
   "cell_type": "markdown",
   "id": "7c9535d4-f14b-421f-9f42-0e1437f685ef",
   "metadata": {},
   "source": [
    "# IoT for Environmental Applications\n",
    "**Theme:** *“Connecting the Environment: Leveraging IoT for Smarter, Greener Solutions”*\n"
   ]
  },
  {
   "cell_type": "markdown",
   "id": "4268e3f8-69bd-4eb3-9139-5939b563b301",
   "metadata": {},
   "source": [
    "## 🎯 Intended Learning Outcomes\n",
    "By the end of this week, students will be able to:\n",
    "- Explain the concept and architecture of the Internet of Things (IoT).\n",
    "- Identify IoT components used in environmental monitoring systems.\n",
    "- Design a basic IoT-enabled prototype for collecting and transmitting environmental data.\n",
    "- Simulate or build a working model using virtual or physical tools (e.g., TinkerCAD, Fritzing, ESP32 with sensors)."
   ]
  },
  {
   "cell_type": "markdown",
   "id": "728fb155-f316-48a5-932d-0037e7e15297",
   "metadata": {},
   "source": [
    "As climate change intensifies, there’s an urgent demand for real-time, networked environmental intelligence. IoT bridges that gap by connecting sensors, data, and systems over the internet—enabling remote monitoring, predictive analytics, and timely action.\n",
    "\n",
    "IoT helps environmental engineers:\n",
    "- Monitor air and water quality in real-time.\n",
    "- Build early warning systems for natural disasters like floods or forest fires.\n",
    "- Improve resource efficiency in agriculture, buildings, and waste management.\n",
    "\n",
    "Computer engineers play a critical role by designing, developing, and optimizing the hardware and software that make these smart environmental systems possible."
   ]
  },
  {
   "cell_type": "markdown",
   "id": "3fed4e6e-63df-4774-bc51-e599f77e9689",
   "metadata": {},
   "source": [
    "## Introduction to IoT in Environmental Engineering\n",
    "**What is IoT (Internet of Things)?**  \n",
    "The Internet of Things (IoT) refers to a network of physical devices—such as sensors, machines, and controllers—embedded with software, connectivity, and electronics that enable them to collect, exchange, and act on data over the internet.\n",
    "\n",
    "In environmental engineering, IoT enables continuous, real-time sensing, remote monitoring, and automated decision-making, significantly improving our ability to address environmental challenges with speed, precision, and scale."
   ]
  },
  {
   "cell_type": "markdown",
   "id": "f7546844-a684-41d3-98e9-9cf30eaf5bea",
   "metadata": {},
   "source": [
    "**Relevance to Sustainability**  \n",
    "IoT is essential for achieving sustainable development because it:\n",
    "- Reduces resource waste through automation and optimization\n",
    "- Enhances data-driven decision-making in environmental planning\n",
    "- Supports early detection of environmental hazards (e.g., pollution spikes, floods)\n",
    "- Enables citizen participation in environmental protection via mobile alerts and open data\n",
    "\n",
    "By embedding “intelligence” into infrastructure, agriculture, buildings, and ecosystems, IoT transforms how we understand and care for the planet."
   ]
  },
  {
   "cell_type": "markdown",
   "id": "6c246c3a-9af3-40c1-a072-aa59aaafb105",
   "metadata": {},
   "source": [
    "## Examples of Environmental IoT Systems\n",
    "**🛰 Smart Water Monitoring Stations**  \n",
    " - Measure pH, turbidity, conductivity, and water level in real-time\n",
    " - Used in rivers, lakes, and municipal supply systems\n",
    " - Alerts issued during contamination or flood risk\n",
    " - Supports RA 9275 (Clean Water Act of the Philippines)\n",
    "\n",
    "**🌫 Air Quality Dashboards**\n",
    " - Devices equipped with gas sensors (e.g., MQ-135, PM2.5) relay pollution data via Wi-Fi or LoRa\n",
    " - Create real-time Air Quality Index (AQI) visualizations\n",
    " - Useful in schools, hospitals, and traffic-heavy urban areas\n",
    " - Supports RA 8749 (Philippine Clean Air Act)\n",
    "\n",
    "**🗑 Smart Waste Bin Alert Systems**\n",
    " - Ultrasonic or weight sensors detect bin fill-levels\n",
    " - Sends alerts to garbage collection systems when full\n",
    " - Helps optimize collection routes, reduce overflowing, and encourage waste segregation\n",
    " - Supports RA 9003 (Ecological Solid Waste Management Act)\n",
    "\n",
    "**🌾 Precision Agriculture with Sensor Nodes**\n",
    " - Networks of soil moisture, temperature, light, and pH sensors are deployed across fields\n",
    " - Data used to automate irrigation and fertilization\n",
    " - Saves water, improves yield, and reduces environmental footprint\n",
    " - Supports climate-smart agriculture initiatives"
   ]
  },
  {
   "cell_type": "markdown",
   "id": "a784fd9f-8a70-45e7-99d1-0fc5cc0669d9",
   "metadata": {},
   "source": [
    "## IoT Architecture and Components\n",
    "\n",
    "An effective IoT system is built on a layered architecture that ensures data flows smoothly from the environment to actionable insights. In the context of environmental engineering, this architecture enables systems to collect real-time data, transmit it securely, process it intelligently, and present it to decision-makers in meaningful ways."
   ]
  },
  {
   "cell_type": "markdown",
   "id": "ea5ff4cd-85fc-4a2b-a00a-8d4b948714eb",
   "metadata": {},
   "source": [
    "| **Layer**                | **Function**                                                | **Components / Technologies**                                                                               | **Environmental Application Example**                                                                   |\n",
    "| ------------------------ | ----------------------------------------------------------- | ----------------------------------------------------------------------------------------------------------- | ------------------------------------------------------------------------------------------------------- |\n",
    "| **1. Sensing Layer**     | Collects real-world environmental data                      | - DHT11/DHT22 (temp & humidity)  <br> - MQ-135 (gas) <br> - YL-69 (soil moisture) <br> - TDS sensor (water) | - Monitor temperature and air quality in schools or offices <br> - Detect soil dryness in smart farms   |\n",
    "| **2. Network Layer**     | Transmits data between sensors and processors/cloud systems | - Wi-Fi (ESP32) <br> - LoRaWAN <br> - ZigBee <br> - Bluetooth/BLE                                           | - Send water turbidity data to cloud dashboard <br> - Wireless gas monitoring in remote villages        |\n",
    "| **3. Processing Layer**  | Processes, filters, and forwards sensor data                | - Microcontrollers (Arduino, ESP32) <br> - Raspberry Pi <br> - MQTT <br> - Firebase, AWS IoT                | - Analyze sensor data locally before sending to the cloud <br> - Detect threshold breach and send alert |\n",
    "| **4. Application Layer** | Delivers insights and feedback to users                     | - ThingSpeak, Blynk, Grafana (dashboards) <br> - Mobile/web apps <br> - Alert systems (SMS, email)          | - Display live AQI (Air Quality Index) <br> - Send SMS alert if water contamination is detected         |\n"
   ]
  },
  {
   "cell_type": "markdown",
   "id": "ac4a8c26-ddfb-434c-9068-8e2616e4f44c",
   "metadata": {},
   "source": [
    "## Key Takeaways\n",
    "1. **IoT empowers environmental solutions by connecting sensors to cloud systems**, enabling global and real-time responses to pollution, disasters, and inefficiency.\n",
    "\n",
    "2. **An IoT system has four layers—sensing, network, processing, and application**—each playing a critical role in converting raw environmental data into actionable insights.\n",
    "\n",
    "3. **Microcontrollers like ESP32 simplify prototyping**, allowing students to build and test real-world systems that can make homes, farms, and cities more sustainable.\n",
    "\n",
    "4. **Cloud platforms (like ThingSpeak, Firebase, Blynk)** allow remote monitoring and data visualization, which are crucial in early warning systems, environmental compliance, and citizen awareness.\n",
    "\n",
    "5. **Computer engineers are builders of tomorrow’s green infrastructure**. Through IoT, they transform passive monitoring into intelligent, responsive environmental protection.\n",
    "\n"
   ]
  },
  {
   "cell_type": "code",
   "execution_count": null,
   "id": "02f03c2d-e3f1-4578-a26c-bcfba4152957",
   "metadata": {},
   "outputs": [],
   "source": []
  }
 ],
 "metadata": {
  "kernelspec": {
   "display_name": "Python (tfod310)",
   "language": "python",
   "name": "tfod310-env"
  },
  "language_info": {
   "codemirror_mode": {
    "name": "ipython",
    "version": 3
   },
   "file_extension": ".py",
   "mimetype": "text/x-python",
   "name": "python",
   "nbconvert_exporter": "python",
   "pygments_lexer": "ipython3",
   "version": "3.10.11"
  }
 },
 "nbformat": 4,
 "nbformat_minor": 5
}
